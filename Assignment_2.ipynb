{
 "cells": [
  {
   "cell_type": "markdown",
   "metadata": {},
   "source": [
    "# TASK 1"
   ]
  },
  {
   "cell_type": "code",
   "execution_count": 52,
   "metadata": {},
   "outputs": [
    {
     "name": "stdout",
     "output_type": "stream",
     "text": [
      "Sum of all element in list a : 15\n",
      "Product of all elements in list a : 120\n",
      "24\n"
     ]
    }
   ],
   "source": [
    "#1.1\n",
    "\n",
    "def myreduce(fun, alist):\n",
    "    x = alist[0]\n",
    "    \n",
    "    for i in range(1, len(alist)):\n",
    "        x = fun(x, alist[i])\n",
    "    \n",
    "    return x\n",
    "\n",
    "def add(x1, x2):\n",
    "    return x1 + x2\n",
    "\n",
    "def Product(x1, x2):\n",
    "    return(x1 * x2)\n",
    "\n",
    "a = [1, 2, 3, 4, 5]\n",
    "\n",
    "print(\"Sum of all element in list a :\", myreduce(add, a))\n",
    "print(\"Product of all elements in list a :\", myreduce(Product, a))\n"
   ]
  },
  {
   "cell_type": "code",
   "execution_count": 3,
   "metadata": {},
   "outputs": [
    {
     "name": "stdout",
     "output_type": "stream",
     "text": [
      "The filtered vowels are: ['a', 'e', 'i', 'o']\n",
      "[1, 3, 5, 13]\n",
      "[0, 2, 8]\n",
      "[65, 39, 221]\n"
     ]
    }
   ],
   "source": [
    "# 1.2\n",
    "\n",
    "\n",
    "#function that gives even numbers\n",
    "def even(x1):\n",
    "    return (x1%2 == 0)\n",
    "\n",
    "# function that filters vowels\n",
    "def filterVowels(alphabet):\n",
    "    vowels = ['a', 'e', 'i', 'o', 'u']\n",
    "    if(alphabet in vowels):\n",
    "        return True\n",
    "    else:\n",
    "        return False\n",
    "\n",
    "#replicating filter() function\n",
    "def myfilter(fun,li): #[6,4]\n",
    "    try:\n",
    "       it = iter(li)\n",
    "    except TypeError:\n",
    "        return \"the arguement is not iterable\"\n",
    "    res = []\n",
    "    for i in range(0,len(li)):\n",
    "        if fun(li[i]) == True:\n",
    "                res.append(li[i])\n",
    "    return res\n",
    "\n",
    "alphabets = ['a', 'b', 'd', 'e', 'i', 'j', 'o']\n",
    "filteredVowels = list(myfilter(filterVowels, alphabets))\n",
    "print('The filtered vowels are:',filteredVowels)\n",
    "\n",
    "seq = [0, 1, 2, 3, 5, 8, 13]  \n",
    "# result contains odd numbers of the sequence \n",
    "result = myfilter(lambda x: x % 2 != 0, seq) \n",
    "print(list(result)) \n",
    "  \n",
    "# result contains even numbers of the sequence \n",
    "result = myfilter(lambda x: x % 2 == 0, seq) \n",
    "print(list(result)) \n",
    "\n",
    "  \n",
    "my_list = [12, 65, 54, 39, 102, 339, 221, 50, 70, ] \n",
    "# use anonymous function to filter the numbers divisible by 13\n",
    "result = list(myfilter(lambda x: (x % 13 == 0), my_list))   \n",
    "print(result)"
   ]
  },
  {
   "cell_type": "code",
   "execution_count": 49,
   "metadata": {},
   "outputs": [
    {
     "name": "stdout",
     "output_type": "stream",
     "text": [
      "['A', 'C', 'A', 'D', 'G', 'I', 'L', 'D']\n",
      "['x', 'xx', 'xxx', 'xxxx', 'y', 'yy', 'yyy', 'yyyy', 'z', 'zz', 'zzz', 'zzzz']\n",
      "['x', 'y', 'z', 'xx', 'yy', 'zz', 'xxx', 'yyy', 'zzz', 'xxxx', 'yyyy', 'zzzz']\n",
      "[[2], [3], [4], [3], [4], [5], [4], [5], [6]]\n",
      "[[2, 3, 4, 5], [3, 4, 5, 6], [4, 5, 6, 7], [5, 6, 7, 8]]\n",
      "[(1, 1), (2, 1), (3, 1), (1, 2), (2, 2), (3, 2), (1, 3), (2, 3), (3, 3)]\n"
     ]
    }
   ],
   "source": [
    "#2 :\n",
    "#['A', 'C', 'A', 'D', 'G', 'I', ’L’, ‘ D’]\n",
    "print([i for i in 'ACADGILD'])\n",
    "\n",
    "#['x', 'xx', 'xxx', 'xxxx', 'y', 'yy', 'yyy', 'yyyy', 'z', 'zz', 'zzz', 'zzzz']\n",
    "print([ a*i for a in \"xyz\"for i in range(1,5) ])\n",
    "\n",
    "# ['x', 'y', 'z', 'xx', 'yy', 'zz', 'xx', 'yy', 'zz', 'xxxx', 'yyyy', 'zzzz']\n",
    "print([a*i for i in range(1,5) for a in \"xyz\"])\n",
    "\n",
    "#[[2], [3], [4], [3], [4], [5], [4], [5], [6]]\n",
    "print( [[i+k] for i in range(1,4) for k in range(1,4)] )\n",
    "\n",
    "#[[2, 3, 4, 5], [3, 4, 5, 6], [4, 5, 6, 7], [5, 6, 7, 8]]\n",
    "print( [[i+j for i in range(1,5)] for j in range(1,5)])\n",
    "\n",
    "#[(1, 1), (2, 1), (3, 1), (1, 2), (2, 2), (3, 2), (1, 3), (2, 3), (3, 3)]\n",
    "print( [(i,k) for k in range(1,4) for i in range(1,4)] )\n"
   ]
  },
  {
   "cell_type": "code",
   "execution_count": 24,
   "metadata": {},
   "outputs": [
    {
     "name": "stdout",
     "output_type": "stream",
     "text": [
      "123456789\n"
     ]
    }
   ],
   "source": [
    "#3 : function longestWord() that takes a list of words and returns the longest one.\n",
    "\n",
    "def longestWord(lst):\n",
    "    lst.sort(key = lambda s: len(s))\n",
    "    return (lst.pop())\n",
    "\n",
    "print(longestWord([\"123456\", \"123\", \"12345678\", \"1234\",\"123456789\",\"123\",\"12\"]))"
   ]
  },
  {
   "cell_type": "markdown",
   "metadata": {},
   "source": [
    "# TASK 2"
   ]
  },
  {
   "cell_type": "code",
   "execution_count": 48,
   "metadata": {},
   "outputs": [
    {
     "name": "stdout",
     "output_type": "stream",
     "text": [
      "Enter length of side a : 20\n",
      "Enter length of side b : 20\n",
      "Enter length of side c : 24\n",
      "192.0\n",
      "Enter length of side a : 12\n",
      "Enter length of side b : 12\n",
      "Enter length of side c : 23\n",
      "39.420013952306\n"
     ]
    }
   ],
   "source": [
    "#1.1 : \n",
    "class Polygon:\n",
    "    x=0\n",
    "    def __init__(self):\n",
    "        self.a= 0\n",
    "        self.b= 0\n",
    "        self.c= 0\n",
    "    \n",
    "    def GetSides(self):\n",
    "        self.a= int(input(\"Enter length of side a : \"))\n",
    "        self.b= int(input(\"Enter length of side b : \"))\n",
    "        self.c= int(input(\"Enter length of side c : \"))\n",
    "    \n",
    "    def ShowArea(self):\n",
    "        print(self.tri.area())\n",
    "    \n",
    "    class triangle():\n",
    "        def __init__(self):\n",
    "            self.poly = Polygon()\n",
    "            \n",
    "        def area(self):\n",
    "            self.poly.GetSides()\n",
    "            a = float(self.poly.a)\n",
    "            b = float(self.poly.b)\n",
    "            c = float(self.poly.c)\n",
    "            s = (a+b+c)/2\n",
    "            area = (s*(s-a)*(s-b)*(s-c))**0.5\n",
    "            print(area)\n",
    "            \n",
    "pol = Polygon()\n",
    "tri = pol.triangle()\n",
    "tri.area()\n",
    "\n",
    "tri2 = pol.triangle()\n",
    "tri2.area()"
   ]
  },
  {
   "cell_type": "code",
   "execution_count": 53,
   "metadata": {},
   "outputs": [
    {
     "name": "stdout",
     "output_type": "stream",
     "text": [
      "['123456', '12345678', '1234', '123456789']\n"
     ]
    }
   ],
   "source": [
    "# 1.2\n",
    "\n",
    "def filter_long_words(lst,n):\n",
    "    l = [i for i in lst if len(i)>n]\n",
    "    return (l)\n",
    "\n",
    "print(filter_long_words([\"123456\", \"123\", \"12345678\", \"1234\",\"123456789\",\"123\",\"12\"],3))\n"
   ]
  },
  {
   "cell_type": "code",
   "execution_count": 14,
   "metadata": {},
   "outputs": [
    {
     "name": "stdout",
     "output_type": "stream",
     "text": [
      "[2, 3, 4]\n",
      "[5, 7, 9]\n"
     ]
    }
   ],
   "source": [
    "#2.1 : function that maps list of words into a list of integers representing the lengths of the corresponding words.\n",
    "def ListLen(lst):\n",
    "    return list(map(lambda x: len(x),lst))\n",
    "\n",
    "print(ListLen([\"ab\",\"cde\",\"erty\"]))\n",
    "print(ListLen([\"12345\",\"1234567\",\"123456789\"]))"
   ]
  },
  {
   "cell_type": "code",
   "execution_count": 9,
   "metadata": {},
   "outputs": [
    {
     "name": "stdout",
     "output_type": "stream",
     "text": [
      "True\n",
      "False\n",
      "False\n",
      "False\n",
      "True\n"
     ]
    }
   ],
   "source": [
    "#2.2 : function which takes a character (i.e. a string of length 1) and returns True if it is a vowel, False otherwise.\n",
    "def filterVowels(alphabet):\n",
    "    vowels = ['a', 'e', 'i', 'o', 'u']\n",
    "    if(alphabet in vowels):\n",
    "        return True\n",
    "    else:\n",
    "        return False\n",
    "    \n",
    "print(filterVowels('a'))\n",
    "print(filterVowels('b'))\n",
    "print(filterVowels('c'))\n",
    "print(filterVowels('d'))\n",
    "print(filterVowels('e'))"
   ]
  }
 ],
 "metadata": {
  "kernelspec": {
   "display_name": "Python 3",
   "language": "python",
   "name": "python3"
  },
  "language_info": {
   "codemirror_mode": {
    "name": "ipython",
    "version": 3
   },
   "file_extension": ".py",
   "mimetype": "text/x-python",
   "name": "python",
   "nbconvert_exporter": "python",
   "pygments_lexer": "ipython3",
   "version": "3.7.4"
  }
 },
 "nbformat": 4,
 "nbformat_minor": 2
}
